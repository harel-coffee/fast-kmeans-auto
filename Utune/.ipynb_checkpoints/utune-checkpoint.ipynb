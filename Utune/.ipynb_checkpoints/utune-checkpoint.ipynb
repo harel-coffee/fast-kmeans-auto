{
 "cells": [
  {
   "cell_type": "code",
   "execution_count": 2,
   "metadata": {},
   "outputs": [],
   "source": [
    "#train a model to predict the best algorithm\n",
    "import warnings\n",
    "warnings.filterwarnings('ignore') #disable the warning\n",
    "import seaborn as sns\n",
    "from sklearn.tree import DecisionTreeClassifier\n",
    "import pandas as pd\n",
    "import sklearn\n",
    "from sklearn import tree\n",
    "import numpy as np\n",
    "import pickle\n",
    "from sklearn import preprocessing\n",
    "from sklearn.feature_selection import SelectFromModel\n",
    "import time"
   ]
  },
  {
   "cell_type": "code",
   "execution_count": 3,
   "metadata": {},
   "outputs": [],
   "source": [
    "# mrr for index prediction\n",
    "# Mean reciprocal rank (mrr) metric for evaluation\n",
    "# https://en.wikipedia.org/wiki/Mean_reciprocal_rank\n",
    "def mrr(predy, indices_train, new_y):\n",
    "    #print(indices_train)\n",
    "    sums = 0.0\n",
    "    ci = 0 \n",
    "    for idt in indices_train:\n",
    "        y_idt = new_y[idt]\n",
    "        predict_y = predy[ci]\n",
    "        counts = 1\n",
    "        ci = ci+1\n",
    "        label = True\n",
    "        for eachy in y_idt:\n",
    "            if eachy < 13:\n",
    "                if label:\n",
    "                    eachy = 16\n",
    "                    label = False\n",
    "            if predict_y == eachy:\n",
    "                sums = sums + 1/counts\n",
    "                break;\n",
    "            if eachy>=13:\n",
    "                counts = counts+1\n",
    " #   print(sums/len(indices_train))\n",
    "    return sums/len(indices_train)\n",
    "\n",
    "#mrr for bound prediction\n",
    "def mrr_bound(predy, indices_train, new_y):\n",
    "    #print(indices_train)\n",
    "    sums = 0.0\n",
    "    ci = 0 \n",
    "    for idt in indices_train:\n",
    "        y_idt = new_y[idt]\n",
    "        predict_y = predy[ci]\n",
    "        counts = 1\n",
    "        ci = ci+1\n",
    "        for eachy in y_idt:\n",
    "            if predict_y == eachy:\n",
    "                sums = sums + 1/counts\n",
    "                break;\n",
    "            if eachy<13:\n",
    "                counts = counts+1\n",
    " #   print(sums/len(indices_train))\n",
    "    return sums/len(indices_train)"
   ]
  },
  {
   "cell_type": "code",
   "execution_count": 4,
   "metadata": {
    "scrolled": false
   },
   "outputs": [
    {
     "name": "stdout",
     "output_type": "stream",
     "text": [
      "<class 'pandas.core.frame.DataFrame'>\n",
      "range(0, 808)\n"
     ]
    }
   ],
   "source": [
    "#pre-process the data\n",
    "data=pd.read_csv(\"groundtruth_new.csv\") #less features\n",
    "data1=pd.read_csv(\"groundtruth_align.csv\")#more features\n",
    "\n",
    "result = pd.merge(data1, data, on=['dataset', 'k', 'dimension','trajectoryNumber'])#combine two datasets\n",
    "result.to_csv(\"combine_gt.csv\", sep=',', index = False)\n",
    "\n",
    "fresh_data = pd.read_csv(\"groundtruth.csv\")#this is the selective runnings' ground truth\n",
    "result = fresh_data\n",
    "print(type(result))\n",
    "#result = pd.concat([result, fresh_data])\n",
    "result.to_csv(\"combine_gt11.csv\", sep=',', index = False)\n",
    "\n",
    "#filter the data\n",
    "#result.drop_duplicates(subset=['dataset', 'k', 'dimension','trajectoryNumber'], keep=False)\n",
    "#print(result)\n",
    "\n",
    "# df = df.drop_duplicates(subset='Name', keep='first')\n",
    "#filter the lower percentage, or choose the most close \n",
    "\n",
    "y=result.loc[:,\"fastest\"]#the ground truth\n",
    "y_new = result.loc[:,\"fastest\":\"slowest\"]\n",
    "\n",
    "#2,3,6,7,10, which are five main classification\n",
    "smaller_cat = [2,3,6,7,10]\n",
    "#change y to this five column\n",
    "\n",
    "# Get the feature space.  We are using only features from before the stop, getting rid of features from during/after the stop like \"arrested\".\n",
    "X = result.loc[:,\"k\":\"trajectoryNumber\"]#basic\n",
    "#change \n",
    "#X = pd.concat(frames)\n",
    "#X = result.loc[:,\"k\":\"heightnew\"] # tree level\n",
    "#X = result.loc[:,\"k\":\"nodecounts\"] # tree level\n",
    "X = result.loc[:,\"k\":\"disfathersd\"]# leaf level\n",
    "\n",
    "\n",
    "#read another file for new features,\n",
    "\n",
    "#X = pd.DataFrame(preprocessing.scale(X.to_numpy()))# preprocess the data\n",
    "#print(X)\n",
    "\n",
    "#new_x = X.to_numpy()\n",
    "new_y = y_new.to_numpy()\n",
    "\n",
    "new_ytrain = []\n",
    "new_indextrain = []\n",
    "frequency = np.zeros(14)\n",
    "frequency3 = np.zeros(14)\n",
    "#extract the optimal bound and index configuration\n",
    "for each_y in new_y:\n",
    "    if each_y[0]>=13:\n",
    "        new_indextrain.append(each_y[0])\n",
    "    else:\n",
    "        new_indextrain.append(16)# not using index\n",
    "    counter = 0\n",
    "    for each_yy in each_y:\n",
    "        if counter < 1:\n",
    "            if each_yy < 14:\n",
    "                frequency[each_yy] = frequency[each_yy]+1\n",
    "        if counter < 3:\n",
    "            if each_yy < 14:\n",
    "                frequency3[each_yy] = frequency3[each_yy]+1\n",
    "        counter = counter+1\n",
    "        if each_yy < 13:\n",
    "            if each_yy in smaller_cat:\n",
    "                new_ytrain.append(each_yy)#smaller_cat.index(each_yy)+1, filter the noise lable,\n",
    "                break\n",
    "\n",
    "new_ytrain = np.transpose(new_ytrain)\n",
    "new_indextrain = np.transpose(new_indextrain)\n",
    "\n",
    "#print(new_ytrain)\n",
    "\n",
    "bound = pd.Series(new_ytrain)# predict the bound\n",
    "index = pd.Series(new_indextrain)# predict the bound\n",
    "#print(index)\n",
    "\n",
    "indices = range(len(y_new))\n",
    "print(indices)\n",
    "#append the features from another file and append to x\n",
    "\n",
    "X_train,X_test,y_train,y_test, indices_train,indices_test = sklearn.model_selection.train_test_split(X, bound, indices, test_size=0.4, random_state=999)\n",
    "\n",
    "index_train,index_test,indexy_train,indexy_test, indicesa_train,indicesa_test=sklearn.model_selection.train_test_split(X, index,indices, test_size=0.2, random_state=999)"
   ]
  },
  {
   "cell_type": "markdown",
   "metadata": {},
   "source": [
    "# BDT"
   ]
  },
  {
   "cell_type": "code",
   "execution_count": 5,
   "metadata": {},
   "outputs": [
    {
     "name": "stdout",
     "output_type": "stream",
     "text": [
      "[13, 13, 6, 13, 2, 13, 13, 13, 6, 13, 6, 13, 13, 13, 2, 13, 6, 13, 13, 6, 13, 2, 13, 13, 13, 13, 6, 6, 13, 13, 13, 13, 13, 13, 2, 13, 13, 6, 6, 2, 13, 13, 2, 13, 13, 13, 13, 6, 6, 13, 6, 6, 13, 2, 6, 6, 2, 13, 13, 13, 2, 2, 6, 13, 13, 13, 6, 13, 6, 6, 13, 6, 6, 13, 2, 13, 13, 6, 13, 6, 6, 6, 6, 13, 13, 13, 6, 13, 13, 13, 6, 13, 13, 13, 6, 2, 13, 13, 13, 13, 6, 13, 6, 13, 13, 2, 13, 6, 13, 13, 13, 13, 13, 13, 13, 6, 6, 13, 13, 13, 13, 6, 13, 6, 13, 13, 6, 13, 13, 13, 13, 2, 13, 13, 13, 2, 13, 6, 13, 6, 13, 13, 6, 6, 13, 6, 2, 6, 13, 6, 6, 13, 13, 6, 6, 2, 13, 13, 13, 13, 13, 13, 13, 6, 13, 13, 6, 13, 13, 6, 2, 13, 13, 2, 6, 6, 13, 6, 13, 13, 6, 13, 13, 13, 6, 13, 6, 13, 6, 6, 13, 6, 13, 6, 6, 6, 13, 6, 13, 6, 13, 13, 13, 13, 13, 2, 13, 6, 13, 6, 13, 13, 13, 6, 13, 6, 6, 13, 13, 6, 13, 13, 6, 13, 6, 13, 2, 13, 2, 6, 6, 6, 13, 6, 6, 13, 6, 13, 13, 13, 13, 6, 13, 13, 13, 6, 6, 13, 13, 13, 6, 13, 13, 13, 13, 13, 13, 13, 13, 6, 13, 13, 13, 13, 13, 13, 13, 6, 13, 13, 6, 13, 6, 13, 13, 13, 13, 13, 2, 2, 13, 6, 6, 13, 6, 13, 6, 6, 13, 13, 13, 6, 13, 13, 6, 6, 6, 2, 13, 6, 6, 13, 6, 13, 13, 13, 13, 6, 13, 6, 6, 13, 13, 2, 13, 13, 13, 13, 6, 13, 6, 6, 6, 13]\n",
      "0.42160493827160517\n",
      "0.4352880658436211\n"
     ]
    }
   ],
   "source": [
    "#basic decision tree\n",
    "def predict_bdt(features):\n",
    "    predict = []\n",
    "  #  print(features)\n",
    "    x =features.to_numpy()\n",
    "  #  print(x)\n",
    "    for fea in x:\n",
    "    #    print(fea)\n",
    "        if fea[1]<20:#dimension\n",
    "            predict.append(13)\n",
    "        else:\n",
    "            if fea[0]>50:\n",
    "                predict.append(6)\n",
    "            else:\n",
    "                predict.append(2)\n",
    "    return predict\n",
    "\n",
    "                    \n",
    "predy = predict_bdt(X_test)\n",
    "print(predy)\n",
    "dtboundP = mrr_bound(predy, indices_test, new_y)\n",
    "print(dtboundP)\n",
    "dtboundP = mrr(predy, indices_test, new_y)\n",
    "print(dtboundP)"
   ]
  },
  {
   "cell_type": "markdown",
   "metadata": {},
   "source": [
    "# Decision tree"
   ]
  },
  {
   "cell_type": "code",
   "execution_count": 6,
   "metadata": {
    "scrolled": false
   },
   "outputs": [
    {
     "name": "stdout",
     "output_type": "stream",
     "text": [
      "--- 0.0032601356506347656 seconds ---\n",
      "In sample accuracy: 0.8491735537190083\n",
      "Out of sample accuracy: 0.8179012345679012\n",
      "--- 0.0011959075927734375 seconds ---\n",
      "(484, 14)\n",
      "(484, 14)\n",
      "In sample accuracy: 0.8900928792569659\n",
      "Out of sample accuracy: 0.8518518518518519\n",
      "162\n",
      "484\n"
     ]
    },
    {
     "data": {
      "image/png": "[encoded data removed]",
      "text/plain": [
       "<Figure size 432x288 with 1 Axes>"
      ]
     },
     "metadata": {
      "needs_background": "light"
     },
     "output_type": "display_data"
    },
    {
     "name": "stdout",
     "output_type": "stream",
     "text": [
      "0.8945987654320988\n",
      "0.9151234567901233\n"
     ]
    }
   ],
   "source": [
    "# learn a decision tree for bound configuration, normalize the data\n",
    "start_time = time.time() #print(\"--- %s seconds ---\" % (time.time() - start_time))\n",
    "dt = DecisionTreeClassifier(max_leaf_nodes=20)\n",
    "dt.fit(X_train,y_train)\n",
    "dttraint = (time.time() - start_time)*1000\n",
    "print(\"--- %s seconds ---\" % (time.time() - start_time))\n",
    "\n",
    "print('In sample accuracy:',dt.score(X_train,y_train))\n",
    "print('Out of sample accuracy:',dt.score(X_test,y_test))\n",
    "\n",
    "start_time = time.time()\n",
    "predy = dt.predict(X_train)\n",
    "dtpredictt = (time.time() - start_time)/len(X_train)*1000000\n",
    "print(\"--- %s seconds ---\" % (time.time() - start_time))\n",
    "mrr_bound(predy, indices_train, new_y)\n",
    "\n",
    "\n",
    "predy = dt.predict(X_test)\n",
    "dtboundP = mrr_bound(predy, indices_test, new_y)\n",
    "\n",
    "\n",
    "# learn for index configuraiton, less number of classfications\n",
    "dt = DecisionTreeClassifier(max_leaf_nodes=20)\n",
    "dt.fit(index_train,indexy_train)\n",
    "\n",
    "print(X_train.shape)\n",
    "sel_variance_threshold = sklearn.feature_selection.VarianceThreshold() \n",
    "X_train_remove_variance = sel_variance_threshold.fit_transform(X_train)\n",
    "print(X_train_remove_variance.shape)\n",
    "#print(dt.predict(index_train))\n",
    "#print(dt.predict(index_test))\n",
    "\n",
    "print('In sample accuracy:',dt.score(index_train,indexy_train))\n",
    "print('Out of sample accuracy:',dt.score(index_test,indexy_test))\n",
    "predy = dt.predict(index_train)\n",
    "mrr(predy, indicesa_train, new_y)\n",
    "\n",
    "predy = dt.predict(index_test)\n",
    "\n",
    "print(len(predy))\n",
    "print(len(indices_train))\n",
    "dtindexP = mrr(predy, indicesa_test, new_y)\n",
    "\n",
    "pickle.dump(dt, open(\"./dt.pkl\", 'wb'))\n",
    " \n",
    "# load the model from disk\n",
    "#loaded_model = pickle.load(open(filename, 'rb'))\n",
    "#result = loaded_model.score(X_test, Y_test)\n",
    "#print(result)\n",
    "\n",
    "max_depths = np.linspace(1, 32, 32, endpoint=True)\n",
    "train_results = []\n",
    "test_results = []\n",
    "for max_depth in max_depths:\n",
    "    dt = DecisionTreeClassifier(max_depth=max_depth)\n",
    "    dt.fit(X_train,y_train)\n",
    "    \n",
    "    predy = dt.predict(X_train)\n",
    "    train_results.append(mrr_bound(predy, indices_train, new_y))\n",
    "\n",
    "    predy = dt.predict(X_test)\n",
    "#    train_results.append(dt.score(X_train,y_train))\n",
    "#    test_results.append(dt.score(X_test,y_test))\n",
    "    test_results.append(mrr_bound(predy, indices_test, new_y))\n",
    "\n",
    "from matplotlib.legend_handler import HandlerLine2D\n",
    "import matplotlib.pyplot as plt\n",
    "line1, = plt.plot(max_depths, train_results, 'b', label=\"Train AUC\")\n",
    "line2, = plt.plot(max_depths, test_results, 'r', label=\"Test AUC\")\n",
    "plt.legend(handler_map={line1: HandlerLine2D(numpoints=2)})\n",
    "plt.ylabel('AUC score')\n",
    "plt.xlabel('Tree depth')\n",
    "plt.show()\n",
    "print(dtboundP)\n",
    "print(dtindexP)"
   ]
  },
  {
   "cell_type": "code",
   "execution_count": 7,
   "metadata": {
    "scrolled": true
   },
   "outputs": [
    {
     "name": "stdout",
     "output_type": "stream",
     "text": [
      "In sample accuracy: 0.7045454545454546\n",
      "Out of sample accuracy: 0.7716049382716049\n",
      "digraph Tree {node [shape=box, style=\"filled, rounded\", color=\"black\", fontname=helvetica] ;edge [fontname=helvetica] ;0 [label=<trajectoryNumber &le; 2800.5<br/>samples = 484<br/>value = [36, 18, 127, 257, 46]>, fillcolor=\"#b8b7f6\"] ;1 [label=<samples = 114<br/>value = [6, 6, 79, 22, 1]>, fillcolor=\"#84efdb\"] ;0 -> 1 [labeldistance=2.5, labelangle=45, headlabel=\"True\"] ;2 [label=<k &le; 30.0<br/>samples = 370<br/>value = [30, 12, 48, 235, 45]>, fillcolor=\"#8e8cf0\"] ;0 -> 2 [labeldistance=2.5, labelangle=-45, headlabel=\"False\"] ;3 [label=<samples = 57<br/>value = [30, 12, 5, 3, 7]>, fillcolor=\"#f5cdb0\"] ;2 -> 3 ;4 [label=<samples = 313<br/>value = [0, 0, 43, 232, 38]>, fillcolor=\"#7774ed\"] ;2 -> 4 ;}\n"
     ]
    },
    {
     "data": {
      "image/png": "[encoded data removed]",
      "text/plain": [
       "<IPython.core.display.Image object>"
      ]
     },
     "execution_count": 7,
     "metadata": {},
     "output_type": "execute_result"
    }
   ],
   "source": [
    "# This will only work if GraphViz is installed on your machine, visualize the decision tree\n",
    "dt = DecisionTreeClassifier(max_leaf_nodes=3)\n",
    "dt.fit(X_train,y_train)\n",
    "print('In sample accuracy:',dt.score(X_train,y_train))\n",
    "print('Out of sample accuracy:',dt.score(X_test,y_test))\n",
    "from sklearn import tree\n",
    "from IPython.display import Image  \n",
    "import pydotplus\n",
    "thestring = tree.export_graphviz(dt, out_file=None, feature_names=X_train.columns.values,filled=True, rounded=True,  \n",
    "                         special_characters=True,impurity=False)\n",
    "\n",
    "newstring = \"digraph Tree {node [shape=box, style=\\\"filled, rounded\\\", color=\\\"black\\\", fontname=helvetica] ;edge [fontname=helvetica] ;0 [label=<trajectoryNumber &le; 2800.5<br/>samples = 484<br/>value = [36, 18, 127, 257, 46]>, fillcolor=\\\"#b8b7f6\\\"] ;1 [label=<samples = 114<br/>value = [6, 6, 79, 22, 1]>, fillcolor=\\\"#84efdb\\\"] ;0 -> 1 [labeldistance=2.5, labelangle=45, headlabel=\\\"True\\\"] ;2 [label=<k &le; 30.0<br/>samples = 370<br/>value = [30, 12, 48, 235, 45]>, fillcolor=\\\"#8e8cf0\\\"] ;0 -> 2 [labeldistance=2.5, labelangle=-45, headlabel=\\\"False\\\"] ;3 [label=<samples = 57<br/>value = [30, 12, 5, 3, 7]>, fillcolor=\\\"#f5cdb0\\\"] ;2 -> 3 ;4 [label=<samples = 313<br/>value = [0, 0, 43, 232, 38]>, fillcolor=\\\"#7774ed\\\"] ;2 -> 4 ;}\"\n",
    "print(newstring)\n",
    "graph = pydotplus.graph_from_dot_data(newstring)  \n",
    "Image(graph.create_png())"
   ]
  },
  {
   "cell_type": "markdown",
   "metadata": {},
   "source": [
    "# random forest"
   ]
  },
  {
   "cell_type": "code",
   "execution_count": 8,
   "metadata": {
    "scrolled": true
   },
   "outputs": [
    {
     "name": "stdout",
     "output_type": "stream",
     "text": [
      "--- 0.6265339851379395 seconds ---\n",
      "In sample accuracy: 1.0\n",
      "Out of sample accuracy: 0.7592592592592593\n",
      "--- 0.041172027587890625 seconds ---\n",
      "In sample accuracy: 1.0\n",
      "Out of sample accuracy: 0.8333333333333334\n",
      "0.8650205761316874\n",
      "0.9058641975308642\n"
     ]
    }
   ],
   "source": [
    "#random forest, learn to  extract features \n",
    "from sklearn.ensemble import RandomForestClassifier\n",
    "\n",
    "start_time = time.time() #\n",
    "\n",
    "rf = RandomForestClassifier(n_estimators = 500)\n",
    "rf.fit(X_train, y_train)\n",
    "rftraint = (time.time() - start_time)*1000\n",
    "\n",
    "print(\"--- %s seconds ---\" % (time.time() - start_time))\n",
    "\n",
    "print('In sample accuracy:',rf.score(X_train,y_train))\n",
    "print('Out of sample accuracy:',rf.score(X_test,y_test))\n",
    "predy = rf.predict(X_test)\n",
    "rfboundP = mrr_bound(predy, indices_test, new_y)\n",
    "\n",
    "\n",
    "start_time = time.time() #\n",
    "predy = rf.predict(X_test)\n",
    "rfpredictt = (time.time() - start_time)/len(X_test)*1000000\n",
    "\n",
    "print(\"--- %s seconds ---\" % (time.time() - start_time))\n",
    "\n",
    "mrr_bound(predy, indices_test, new_y)\n",
    "\n",
    "rf = SelectFromModel(RandomForestClassifier(n_estimators = 100))\n",
    "#sel.fit(X_train, y_train)\n",
    "selector = rf.fit(X_train, y_train)\n",
    "#selector.estimator_.coef_\n",
    "\n",
    "#print(X_train)\n",
    "X_new = selector.transform(X_train)\n",
    "X_new_test = selector.transform(X_test)\n",
    "rf1 = RandomForestClassifier(n_estimators = 100)\n",
    "rf1.fit(index_train,indexy_train)\n",
    "print('In sample accuracy:',rf1.score(index_train,indexy_train))\n",
    "print('Out of sample accuracy:',rf1.score(index_test,indexy_test))\n",
    "predy = rf1.predict(index_train)\n",
    "mrr(predy, indicesa_train, new_y)\n",
    "predy = rf1.predict(index_test)\n",
    "rfindexP = mrr(predy, indicesa_test, new_y)\n",
    "print(rfboundP)\n",
    "print(rfindexP)"
   ]
  },
  {
   "cell_type": "markdown",
   "metadata": {},
   "source": [
    "## knn, scan every vector, compute the distance,\n",
    "\n",
    "https://scikit-learn.org/stable/modules/neighbors.html"
   ]
  },
  {
   "cell_type": "code",
   "execution_count": 9,
   "metadata": {
    "scrolled": false
   },
   "outputs": [
    {
     "name": "stdout",
     "output_type": "stream",
     "text": [
      "--- 0.0020329952239990234 seconds ---\n",
      "In sample accuracy: 0.7603305785123967\n",
      "Out of sample accuracy: 0.7870370370370371\n",
      "--- 0.017715930938720703 seconds ---\n",
      "0.8769032921810701\n",
      "0.8513374485596708\n"
     ]
    }
   ],
   "source": [
    "from sklearn import neighbors\n",
    "n_neighbors = 15\n",
    "start_time = time.time() #\n",
    "clf = neighbors.KNeighborsClassifier(n_neighbors, weights='uniform')\n",
    "clf.fit(X_train,y_train)\n",
    "knntraint = (time.time() - start_time)*1000\n",
    "\n",
    "print(\"--- %s seconds ---\" % (time.time() - start_time))\n",
    "\n",
    "\n",
    "print('In sample accuracy:',clf.score(X_train,y_train))\n",
    "print('Out of sample accuracy:',clf.score(X_test,y_test))\n",
    "start_time = time.time() #\n",
    "predy = clf.predict(X_train)\n",
    "knnpredictt = (time.time() - start_time)/len(X_train)*1000000\n",
    "print(\"--- %s seconds ---\" % (time.time() - start_time))\n",
    "\n",
    "\n",
    "mrr_bound(predy, indices_train, new_y)\n",
    "\n",
    "predy = clf.predict(X_test)\n",
    "knnboundP = mrr_bound(predy, indices_test, new_y)\n",
    "\n",
    "clf.fit(index_train,indexy_train)\n",
    "predy = clf.predict(index_train)\n",
    "mrr(predy, indicesa_train, new_y)\n",
    "predy = clf.predict(index_test)\n",
    "knnindexP = mrr(predy, indicesa_test, new_y)\n",
    "print(knnboundP)\n",
    "print(knnindexP)"
   ]
  },
  {
   "cell_type": "markdown",
   "metadata": {},
   "source": [
    "## svm has the best performance\n",
    "\n",
    "https://scikit-learn.org/stable/modules/svm.html"
   ]
  },
  {
   "cell_type": "code",
   "execution_count": 10,
   "metadata": {
    "scrolled": true
   },
   "outputs": [
    {
     "name": "stdout",
     "output_type": "stream",
     "text": [
      "--- 0.019572973251342773 seconds ---\n",
      "In sample accuracy: 0.9132231404958677\n",
      "Out of sample accuracy: 0.7654320987654321\n",
      "--- 0.005599260330200195 seconds ---\n",
      "0.8649691358024691\n",
      "0.8878600823045268\n"
     ]
    }
   ],
   "source": [
    "from sklearn import svm\n",
    "start_time = time.time() #\n",
    "\n",
    "clf = svm.SVC()\n",
    "clf.fit(X_train,y_train)#kernel trick can be used\n",
    "svmtraint = (time.time() - start_time)*1000\n",
    "\n",
    "print(\"--- %s seconds ---\" % (time.time() - start_time))\n",
    "\n",
    "print('In sample accuracy:',clf.score(X_train,y_train))\n",
    "print('Out of sample accuracy:',clf.score(X_test,y_test))\n",
    "start_time = time.time() #\n",
    "\n",
    "\n",
    "predy = clf.predict(X_train)\n",
    "svmpredictt = (time.time() - start_time)/len(X_train)*1000000\n",
    "print(\"--- %s seconds ---\" % (time.time() - start_time))\n",
    "\n",
    "\n",
    "mrr_bound(predy, indices_train, new_y)\n",
    "\n",
    "predy = clf.predict(X_test)\n",
    "svmboundP = mrr_bound(predy, indices_test, new_y)\n",
    "\n",
    "clf.fit(index_train,indexy_train)\n",
    "predy = clf.predict(index_train)\n",
    "mrr(predy, indicesa_train, new_y)\n",
    "predy = clf.predict(index_test)\n",
    "svmindexP = mrr(predy, indicesa_test, new_y)\n",
    "print(svmboundP)\n",
    "print(svmindexP)"
   ]
  },
  {
   "cell_type": "markdown",
   "metadata": {},
   "source": [
    "# Linear Classifier with customize performance metric"
   ]
  },
  {
   "cell_type": "code",
   "execution_count": 11,
   "metadata": {
    "scrolled": false
   },
   "outputs": [
    {
     "name": "stdout",
     "output_type": "stream",
     "text": [
      "\n",
      "\n",
      "--- 0.004786014556884766 seconds ---\n",
      "In sample accuracy: 0.6322314049586777\n",
      "Out of sample accuracy: 0.7469135802469136\n",
      "\n",
      "\n",
      "In sample accuracy: 0.6900826446280992\n",
      "Out of sample accuracy: 0.7746913580246914\n",
      "--- 0.0009052753448486328 seconds ---\n",
      "0.8694958847736627\n",
      "0.8719135802469135\n"
     ]
    }
   ],
   "source": [
    "from sklearn.linear_model import RidgeClassifier\n",
    "from sklearn.model_selection import GridSearchCV\n",
    "              \n",
    "        \n",
    "print(\"\\n\")\n",
    "start_time = time.time() #\n",
    "clf = RidgeClassifier(normalize=True, random_state=100, tol=0.1)\n",
    "clf.fit(X_train,y_train)\n",
    "rctraint = (time.time() - start_time)*1000\n",
    "print(\"--- %s seconds ---\" % (time.time() - start_time))\n",
    "\n",
    "\n",
    "print('In sample accuracy:',clf.score(X_train,y_train))\n",
    "print('Out of sample accuracy:',clf.score(X_test,y_test))\n",
    "\n",
    "print(\"\\n\")\n",
    "clf = RidgeClassifier()\n",
    "clf.fit(X_train,y_train)\n",
    "print('In sample accuracy:',clf.score(X_train,y_train))\n",
    "print('Out of sample accuracy:',clf.score(X_test,y_test))\n",
    "start_time = time.time() #\n",
    "predy = clf.predict(X_test)\n",
    "rcpredictt = (time.time() - start_time)/len(X_test)*1000000\n",
    "print(\"--- %s seconds ---\" % (time.time() - start_time))\n",
    "\n",
    "rcboundP = mrr_bound(predy, indices_test, new_y)\n",
    "\n",
    "\n",
    "clf.fit(index_train,indexy_train)\n",
    "predy = clf.predict(index_train)\n",
    "mrr(predy, indicesa_train, new_y)\n",
    "predy = clf.predict(index_test)\n",
    "rcindexP = mrr(predy, indicesa_test, new_y)\n",
    "print(rcboundP)\n",
    "print(rcindexP)\n"
   ]
  },
  {
   "cell_type": "code",
   "execution_count": 12,
   "metadata": {
    "scrolled": false
   },
   "outputs": [
    {
     "name": "stdout",
     "output_type": "stream",
     "text": [
      "0.89 & 0.87 & 0.86 & 0.88 & 0.87\n",
      "0.92 & 0.91 & 0.89 & 0.85 & 0.87\n",
      "3.21 & 626.49 & 19.52 & 1.98 & 4.73\n",
      "2.36 & 126.89 & 11.47 & 36.50 & 2.63\n"
     ]
    }
   ],
   "source": [
    "print(str(format(dtboundP, '.2f'))+\" & \"+str(format(rfboundP, '.2f'))+\" & \"+str(format(svmboundP, '.2f'))+\" & \"+str(format(knnboundP, '.2f'))+\" & \"+str(format(rcboundP, '.2f')))\n",
    "\n",
    "print(str(format(dtindexP, '.2f'))+\" & \"+str(format(rfindexP, '.2f'))+\" & \"+str(format(svmindexP, '.2f'))+\" & \"+str(format(knnindexP, '.2f'))+\" & \"+str(format(rcindexP, '.2f')))\n",
    "\n",
    "print(str(format(dttraint, '.2f'))+\" & \"+str(format(rftraint, '.2f'))+\" & \"+str(format(svmtraint, '.2f'))+\" & \"+str(format(knntraint, '.2f'))+\" & \"+str(format(rctraint, '.2f')))\n",
    "\n",
    "print(str(format(dtpredictt, '.2f'))+\" & \"+str(format(rfpredictt, '.2f'))+\" & \"+str(format(svmpredictt, '.2f'))+\" & \"+str(format(knnpredictt, '.2f'))+\" & \"+str(format(rcpredictt, '.2f')))\n",
    "                                                         "
   ]
  },
  {
   "cell_type": "code",
   "execution_count": null,
   "metadata": {},
   "outputs": [],
   "source": []
  }
 ],
 "metadata": {
  "kernelspec": {
   "display_name": "Python 3",
   "language": "python",
   "name": "python3"
  },
  "language_info": {
   "codemirror_mode": {
    "name": "ipython",
    "version": 3
   },
   "file_extension": ".py",
   "mimetype": "text/x-python",
   "name": "python",
   "nbconvert_exporter": "python",
   "pygments_lexer": "ipython3",
   "version": "3.7.5"
  }
 },
 "nbformat": 4,
 "nbformat_minor": 2
}
